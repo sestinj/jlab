{
 "cells": [
  {
   "cell_type": "code",
   "execution_count": 25,
   "metadata": {},
   "outputs": [],
   "source": [
    "MEASUREMENTS_MAC_LONG = [\n",
    "    5.44,\n",
    "    5.39,\n",
    "    5.46,\n",
    "    5.36,\n",
    "    5.33,\n",
    "    5.38,\n",
    "    5.25,\n",
    "    5.43,\n",
    "]\n",
    "MEASUREMENTS_MAC_SHORT = [\n",
    "    4.49,\n",
    "    4.61,\n",
    "    4.71,\n",
    "    4.58,\n",
    "    4.56,\n",
    "    4.48,\n",
    "    4.58,\n",
    "    4.65,\n",
    "]\n",
    "\n",
    "MEASUREMENTS_IPHONE_LONG = [\n",
    "    3.73,\n",
    "    3.75,\n",
    "    3.65,\n",
    "    3.73,\n",
    "    3.80,\n",
    "    3.85,\n",
    "    3.71,\n",
    "    3.85,\n",
    "]\n",
    "MAC_LONG_LENGTH = 0.3126\n",
    "MAC_SHORT_LENGTH = 0.2212\n",
    "IPHONE_LONG_LENGTH = 0.1467"
   ]
  },
  {
   "cell_type": "code",
   "execution_count": 23,
   "metadata": {},
   "outputs": [
    {
     "name": "stdout",
     "output_type": "stream",
     "text": [
      "Defaulting to user installation because normal site-packages is not writeable\n",
      "Collecting matplotlib\n",
      "  Downloading matplotlib-3.6.3-cp39-cp39-macosx_11_0_arm64.whl (7.2 MB)\n",
      "\u001b[2K     \u001b[90m━━━━━━━━━━━━━━━━━━━━━━━━━━━━━━━━━━━━━━━━\u001b[0m \u001b[32m7.2/7.2 MB\u001b[0m \u001b[31m9.0 MB/s\u001b[0m eta \u001b[36m0:00:00\u001b[0m00:01\u001b[0mm00:01\u001b[0m\n",
      "\u001b[?25hRequirement already satisfied: packaging>=20.0 in /Users/natesesti/Library/Python/3.9/lib/python/site-packages (from matplotlib) (21.3)\n",
      "Collecting fonttools>=4.22.0\n",
      "  Using cached fonttools-4.38.0-py3-none-any.whl (965 kB)\n",
      "Requirement already satisfied: numpy>=1.19 in /Users/natesesti/Library/Python/3.9/lib/python/site-packages (from matplotlib) (1.23.4)\n",
      "Collecting cycler>=0.10\n",
      "  Using cached cycler-0.11.0-py3-none-any.whl (6.4 kB)\n",
      "Requirement already satisfied: pyparsing>=2.2.1 in /Users/natesesti/Library/Python/3.9/lib/python/site-packages (from matplotlib) (3.0.9)\n",
      "Collecting contourpy>=1.0.1\n",
      "  Downloading contourpy-1.0.7-cp39-cp39-macosx_11_0_arm64.whl (229 kB)\n",
      "\u001b[2K     \u001b[90m━━━━━━━━━━━━━━━━━━━━━━━━━━━━━━━━━━━━━\u001b[0m \u001b[32m229.9/229.9 kB\u001b[0m \u001b[31m746.2 kB/s\u001b[0m eta \u001b[36m0:00:00\u001b[0m00:01\u001b[0m\n",
      "\u001b[?25hRequirement already satisfied: python-dateutil>=2.7 in /Users/natesesti/Library/Python/3.9/lib/python/site-packages (from matplotlib) (2.8.2)\n",
      "Collecting kiwisolver>=1.0.1\n",
      "  Downloading kiwisolver-1.4.4-cp39-cp39-macosx_11_0_arm64.whl (63 kB)\n",
      "\u001b[2K     \u001b[90m━━━━━━━━━━━━━━━━━━━━━━━━━━━━━━━━━━━━━━━\u001b[0m \u001b[32m63.2/63.2 kB\u001b[0m \u001b[31m119.2 kB/s\u001b[0m eta \u001b[36m0:00:00\u001b[0ma \u001b[36m0:00:01\u001b[0m\n",
      "\u001b[?25hCollecting pillow>=6.2.0\n",
      "  Downloading Pillow-9.4.0-cp39-cp39-macosx_11_0_arm64.whl (3.0 MB)\n",
      "\u001b[2K     \u001b[90m━━━━━━━━━━━━━━━━━━━━━━━━━━━━━━━━━━━━━━━━\u001b[0m \u001b[32m3.0/3.0 MB\u001b[0m \u001b[31m17.7 MB/s\u001b[0m eta \u001b[36m0:00:00\u001b[0m00:01\u001b[0m00:01\u001b[0m\n",
      "\u001b[?25hRequirement already satisfied: six>=1.5 in /Library/Developer/CommandLineTools/Library/Frameworks/Python3.framework/Versions/3.9/lib/python3.9/site-packages (from python-dateutil>=2.7->matplotlib) (1.15.0)\n",
      "Installing collected packages: pillow, kiwisolver, fonttools, cycler, contourpy, matplotlib\n",
      "\u001b[33m  WARNING: The scripts fonttools, pyftmerge, pyftsubset and ttx are installed in '/Users/natesesti/Library/Python/3.9/bin' which is not on PATH.\n",
      "  Consider adding this directory to PATH or, if you prefer to suppress this warning, use --no-warn-script-location.\u001b[0m\u001b[33m\n",
      "\u001b[0mSuccessfully installed contourpy-1.0.7 cycler-0.11.0 fonttools-4.38.0 kiwisolver-1.4.4 matplotlib-3.6.3 pillow-9.4.0\n",
      "\n",
      "\u001b[1m[\u001b[0m\u001b[34;49mnotice\u001b[0m\u001b[1;39;49m]\u001b[0m\u001b[39;49m A new release of pip available: \u001b[0m\u001b[31;49m22.3\u001b[0m\u001b[39;49m -> \u001b[0m\u001b[32;49m23.0\u001b[0m\n",
      "\u001b[1m[\u001b[0m\u001b[34;49mnotice\u001b[0m\u001b[1;39;49m]\u001b[0m\u001b[39;49m To update, run: \u001b[0m\u001b[32;49m/Library/Developer/CommandLineTools/usr/bin/python3 -m pip install --upgrade pip\u001b[0m\n"
     ]
    }
   ],
   "source": [
    "!pip3 install matplotlib"
   ]
  },
  {
   "cell_type": "code",
   "execution_count": 26,
   "metadata": {},
   "outputs": [
    {
     "name": "stdout",
     "output_type": "stream",
     "text": [
      "Mac Long\n",
      "Mean:  10.66371690960912\n",
      "Standard Deviation:  0.2732668526207873\n",
      "Mac Short\n",
      "Mean:  10.403945149045787\n",
      "Standard Deviation:  0.3469354034936233\n",
      "IPhone Long\n",
      "Mean:  10.257413511030455\n",
      "Standard Deviation:  0.38159972323213953\n",
      "\n",
      "Overall mean g:  10.441691856561787\n",
      "Overall standard deviation of g:  0.36487214222135866\n",
      "Overall uncertainty:  0.0744792141498786\n"
     ]
    }
   ],
   "source": [
    "from math import sqrt, pi\n",
    "from typing import List\n",
    "\n",
    "def calc_g(t_5_cycles: float, length: float) -> float:\n",
    "    period = t_5_cycles / 5.0\n",
    "    angular_freq = (2 * pi) / period\n",
    "    g = angular_freq**2 * length\n",
    "    return g\n",
    "\n",
    "def mean(values: List[float]) -> float:\n",
    "    return sum(values) / float(len(values))\n",
    "\n",
    "def population_variance(values: List[float]) -> float:\n",
    "    return mean([x**2 for x in values]) - mean(values)**2\n",
    "\n",
    "def variance(values: List[float]) -> float:\n",
    "    mu = mean(values)\n",
    "    return sum([(x - mu)**2 for x in values]) / float(len(values) - 1)\n",
    "\n",
    "def std_dev(values: List[float]) -> float:\n",
    "    return sqrt(variance(values))\n",
    "\n",
    "def uncertainty(values: List[float]) -> float:\n",
    "    return std_dev(values) / sqrt(float(len(values)))\n",
    "\n",
    "def report_data(values: List[float], title: str):\n",
    "    print(title)\n",
    "    print(\"Mean: \", mean(values))\n",
    "    print(\"Standard Deviation: \", std_dev(values))\n",
    "\n",
    "MAC_LONG_G = [calc_g(t, MAC_LONG_LENGTH) for t in MEASUREMENTS_MAC_LONG]\n",
    "MAC_SHORT_G = [calc_g(t, MAC_SHORT_LENGTH) for t in MEASUREMENTS_MAC_SHORT]\n",
    "IPHONE_LONG_G = [calc_g(t, IPHONE_LONG_LENGTH) for t in MEASUREMENTS_IPHONE_LONG]\n",
    "\n",
    "report_data(MAC_LONG_G, \"Mac Long\")\n",
    "report_data(MAC_SHORT_G, \"Mac Short\")\n",
    "report_data(IPHONE_LONG_G, \"IPhone Long\")\n",
    "\n",
    "overall_mean = mean(MAC_LONG_G + MAC_SHORT_G + IPHONE_LONG_G)\n",
    "overall_std_dev = std_dev(MAC_LONG_G + MAC_SHORT_G + IPHONE_LONG_G)\n",
    "print()\n",
    "print(\"Overall mean g: \", overall_mean)\n",
    "print(\"Overall standard deviation of g: \", overall_std_dev)\n",
    "print(\"Overall uncertainty: \", uncertainty(MAC_LONG_G + MAC_SHORT_G + IPHONE_LONG_G))\n",
    "\n"
   ]
  },
  {
   "attachments": {},
   "cell_type": "markdown",
   "metadata": {},
   "source": [
    "# Notes\n",
    "\n",
    "## Assembly\n",
    "String tied to water bottle cap, measured using Apple device dimensions, held between my thumbnail and table. Time measured with stopwatch by hand.\n",
    "\n",
    "## Sources of Uncertainty\n",
    "Systematic:\n",
    "- Weight of string\n",
    "- Water bottle cap not a point mass, distribution of weight matters\n",
    "- Friction on string between my finger and table\n",
    "- Drag\n",
    "- Small angle approximation\n",
    "\n",
    "Statistical:\n",
    "- Hand-timing error\n",
    "\n",
    "## Experimental Variables\n",
    "- Periods measured\n",
    "- Length of string\n",
    "\n",
    "Experiment was performed with periods measured always 5, and 3 sets of 8 measurements with different lengths of string."
   ]
  },
  {
   "cell_type": "markdown",
   "metadata": {},
   "source": []
  },
  {
   "cell_type": "code",
   "execution_count": null,
   "metadata": {},
   "outputs": [],
   "source": [
    "# don't use small angle\n",
    "# calculate damping and change string length to calculate com\n",
    "# long physical pendulum\n",
    "# minimize damping\n",
    "# slow motion\n",
    "# better precision stopwatch\n",
    "# Run a string through a thin pipe?\n",
    "# Take more measurements of length to get a more accurate answer"
   ]
  },
  {
   "cell_type": "code",
   "execution_count": 24,
   "metadata": {},
   "outputs": [
    {
     "ename": "TypeError",
     "evalue": "arg must be a list, tuple, 1-d array, or Series",
     "output_type": "error",
     "traceback": [
      "\u001b[0;31m---------------------------------------------------------------------------\u001b[0m",
      "\u001b[0;31mTypeError\u001b[0m                                 Traceback (most recent call last)",
      "Cell \u001b[0;32mIn [24], line 5\u001b[0m\n\u001b[1;32m      2\u001b[0m \u001b[39mimport\u001b[39;00m \u001b[39mpandas\u001b[39;00m \u001b[39mas\u001b[39;00m \u001b[39mpd\u001b[39;00m\n\u001b[1;32m      4\u001b[0m df \u001b[39m=\u001b[39m pd\u001b[39m.\u001b[39mread_csv(\u001b[39m\"\u001b[39m\u001b[39mpendulumData.csv\u001b[39m\u001b[39m\"\u001b[39m)\n\u001b[0;32m----> 5\u001b[0m df \u001b[39m=\u001b[39m pd\u001b[39m.\u001b[39;49mto_numeric(df)\n\u001b[1;32m      6\u001b[0m \u001b[39mprint\u001b[39m(df\u001b[39m.\u001b[39mhead())\n\u001b[1;32m      7\u001b[0m df[\u001b[39m'\u001b[39m\u001b[39msys uncert\u001b[39m\u001b[39m'\u001b[39m] \u001b[39m=\u001b[39m df[\u001b[39m'\u001b[39m\u001b[39msys uncert\u001b[39m\u001b[39m'\u001b[39m]\u001b[39m.\u001b[39mfillna(\u001b[39m0\u001b[39m)\n",
      "File \u001b[0;32m~/Library/Python/3.9/lib/python/site-packages/pandas/core/tools/numeric.py:165\u001b[0m, in \u001b[0;36mto_numeric\u001b[0;34m(arg, errors, downcast)\u001b[0m\n\u001b[1;32m    163\u001b[0m     values \u001b[39m=\u001b[39m np\u001b[39m.\u001b[39marray([arg], dtype\u001b[39m=\u001b[39m\u001b[39m\"\u001b[39m\u001b[39mO\u001b[39m\u001b[39m\"\u001b[39m)\n\u001b[1;32m    164\u001b[0m \u001b[39melif\u001b[39;00m \u001b[39mgetattr\u001b[39m(arg, \u001b[39m\"\u001b[39m\u001b[39mndim\u001b[39m\u001b[39m\"\u001b[39m, \u001b[39m1\u001b[39m) \u001b[39m>\u001b[39m \u001b[39m1\u001b[39m:\n\u001b[0;32m--> 165\u001b[0m     \u001b[39mraise\u001b[39;00m \u001b[39mTypeError\u001b[39;00m(\u001b[39m\"\u001b[39m\u001b[39marg must be a list, tuple, 1-d array, or Series\u001b[39m\u001b[39m\"\u001b[39m)\n\u001b[1;32m    166\u001b[0m \u001b[39melse\u001b[39;00m:\n\u001b[1;32m    167\u001b[0m     values \u001b[39m=\u001b[39m arg\n",
      "\u001b[0;31mTypeError\u001b[0m: arg must be a list, tuple, 1-d array, or Series"
     ]
    }
   ],
   "source": [
    "import numpy as np\n",
    "import pandas as pd\n",
    "\n",
    "df = pd.read_csv(\"pendulumData.csv\")\n",
    "print(df.head())\n",
    "df['sys uncert'] = pd.to_numeric(df['sys uncert']).fillna(0)\n",
    "df['stat uncert'] = df['stat uncert'].fillna(0)\n",
    "df['total uncert'] = df['total uncert'].fillna(df['stat uncert'].add(df['sys uncert']))\n",
    "# print(df.head())"
   ]
  },
  {
   "cell_type": "markdown",
   "metadata": {},
   "source": []
  },
  {
   "cell_type": "code",
   "execution_count": 63,
   "metadata": {},
   "outputs": [
    {
     "data": {
      "text/plain": [
       "False"
      ]
     },
     "execution_count": 63,
     "metadata": {},
     "output_type": "execute_result"
    }
   ],
   "source": [
    "import math\n",
    "math.isnan(pd.read_csv(\"pendulumData.csv\")['g (m/s2)'][20])"
   ]
  },
  {
   "cell_type": "code",
   "execution_count": 49,
   "metadata": {},
   "outputs": [
    {
     "data": {
      "text/plain": [
       "(array([  6.,  22., 175.,  21.,   4.,   3.,   0.,   0.,   1.,   1.]),\n",
       " array([ 7.73 ,  8.527,  9.324, 10.121, 10.918, 11.715, 12.512, 13.309,\n",
       "        14.106, 14.903, 15.7  ]),\n",
       " <BarContainer object of 10 artists>)"
      ]
     },
     "execution_count": 49,
     "metadata": {},
     "output_type": "execute_result"
    },
    {
     "data": {
      "image/png": "[encoded data removed]",
      "text/plain": [
       "<Figure size 640x480 with 1 Axes>"
      ]
     },
     "metadata": {},
     "output_type": "display_data"
    }
   ],
   "source": [
    "from matplotlib import pyplot as plt\n",
    "\n",
    "g = np.array(list(filter(lambda x: x < 100, g)))\n",
    "plt.hist(g)"
   ]
  },
  {
   "cell_type": "code",
   "execution_count": null,
   "metadata": {},
   "outputs": [
    {
     "ename": "",
     "evalue": "",
     "output_type": "error",
     "traceback": [
      "\u001b[1;31mFailed to start the Kernel. \n",
      "\u001b[1;31mJupyter server crashed. Unable to connect. \n",
      "\u001b[1;31mError code from Jupyter: 1\n",
      "\u001b[1;31musage: jupyter.py [-h] [--version] [--config-dir] [--data-dir] [--runtime-dir]\n",
      "\u001b[1;31m                  [--paths] [--json] [--debug]\n",
      "\u001b[1;31m                  [subcommand]\n",
      "\u001b[1;31m\n",
      "\u001b[1;31mJupyter: Interactive Computing\n",
      "\u001b[1;31m\n",
      "\u001b[1;31mpositional arguments:\n",
      "\u001b[1;31m  subcommand     the subcommand to launch\n",
      "\u001b[1;31m\n",
      "\u001b[1;31moptional arguments:\n",
      "\u001b[1;31m  -h, --help     show this help message and exit\n",
      "\u001b[1;31m  --version      show the versions of core jupyter packages and exit\n",
      "\u001b[1;31m  --config-dir   show Jupyter config dir\n",
      "\u001b[1;31m  --data-dir     show Jupyter data dir\n",
      "\u001b[1;31m  --runtime-dir  show Jupyter runtime dir\n",
      "\u001b[1;31m  --paths        show all Jupyter paths. Add --json for machine-readable\n",
      "\u001b[1;31m                 format.\n",
      "\u001b[1;31m  --json         output paths as machine-readable json\n",
      "\u001b[1;31m  --debug        output debug information about paths\n",
      "\u001b[1;31m\n",
      "\u001b[1;31mAvailable subcommands:\n",
      "\u001b[1;31m\n",
      "\u001b[1;31mJupyter command `jupyter-notebook` not found. \n",
      "\u001b[1;31mView Jupyter <a href='command:jupyter.viewOutput'>log</a> for further details."
     ]
    }
   ],
   "source": [
    "2+2"
   ]
  },
  {
   "cell_type": "code",
   "execution_count": null,
   "metadata": {},
   "outputs": [],
   "source": []
  }
 ],
 "metadata": {
  "kernelspec": {
   "display_name": "Python 3",
   "language": "python",
   "name": "python3"
  },
  "language_info": {
   "codemirror_mode": {
    "name": "ipython",
    "version": 3
   },
   "file_extension": ".py",
   "mimetype": "text/x-python",
   "name": "python",
   "nbconvert_exporter": "python",
   "pygments_lexer": "ipython3",
   "version": "3.9.6"
  },
  "orig_nbformat": 4,
  "vscode": {
   "interpreter": {
    "hash": "31f2aee4e71d21fbe5cf8b01ff0e069b9275f58929596ceb00d14d90e3e16cd6"
   }
  }
 },
 "nbformat": 4,
 "nbformat_minor": 2
}
