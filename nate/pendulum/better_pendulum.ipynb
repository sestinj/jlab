{
 "cells": [
  {
   "cell_type": "code",
   "execution_count": 3,
   "metadata": {},
   "outputs": [
    {
     "name": "stdout",
     "output_type": "stream",
     "text": [
      "9.805635060554328\n"
     ]
    }
   ],
   "source": [
    "from math import pi, sqrt\n",
    "import numpy as np\n",
    "\n",
    "# m = 56.0 / 1000.0\n",
    "# L = 2.54 * 34.0 / 100.0\n",
    "# I = m * L**2 / 3.0\n",
    "\n",
    "# def calc_g_physical_pendulum(t_5_cycles: float) -> float:\n",
    "#     T = t_5_cycles / 5.0\n",
    "#     g = T**2 * m * L / (4 * pi**2 * I)\n",
    "#     return g\n",
    "\n",
    "def calc_g_point_mass(t_5_cycles: float, length: float) -> float:\n",
    "    period = t_5_cycles / 5.0\n",
    "    angular_freq = (2 * pi) / period\n",
    "    g = angular_freq**2 * length\n",
    "    return g\n",
    "\n",
    "def calc_omega_obs(times: np.ndarray, periods_measured):\n",
    "    period = np.mean(times) / periods_measured\n",
    "    return (2 * pi) / period\n",
    "\n",
    "def calc_omega_0(times: np.ndarray, periods_measured, length):\n",
    "    period = np.mean(times) / periods_measured\n",
    "    omega_0 = (2 * pi) / period\n",
    "    return omega_0\n",
    "\n",
    "def calc_damping(omega_obs_1, omega_obs_2, m_1, m_2):\n",
    "    return np.sqrt((omega_obs_2**2 - omega_obs_1**2) / ( 1.0/(4.0*m_2**2) - 1.0/(4.0*m_1**2) ))\n",
    "\n",
    "# For first mass\n",
    "m_1 = 112.0 / 1000.0\n",
    "l_m_1 = 188.75 * 2.54 / 100.0\n",
    "\n",
    "t_5_m_1 = np.array([\n",
    "    22.037,\n",
    "    21.943,\n",
    "    22.053\n",
    "])\n",
    "t_std_1 = np.std(t_5_m_1)\n",
    "omega_obs_m_1 = calc_omega_obs(t_5_m_1, 5.0)\n",
    "\n",
    "# For second mass\n",
    "m_2 = 38.0 / 1000.0\n",
    "l_m_2 = 186.75 * 2.54 / 100.0\n",
    "t_5_m_2 = np.array([\n",
    "    21.562,\n",
    "    21.808,\n",
    "    21.670\n",
    "])\n",
    "t_std_2 = np.std(t_5_m_2)\n",
    "omega_obs_m_2 = calc_omega_obs(t_5_m_2, 5.0)\n",
    "\n",
    "# Calculate damping then g\n",
    "b = calc_damping(omega_obs_m_1, omega_obs_m_2, m_1, m_2)\n",
    "\n",
    "def calc_g_with_damping(omega_obs, b, m, l):\n",
    "    return l * (omega_obs**2 + b**2 / (4.0*m**2))\n",
    "\n",
    "g = calc_g_with_damping(omega_obs_m_1, b, m_1, l_m_1)\n",
    "print(g)"
   ]
  },
  {
   "cell_type": "code",
   "execution_count": 4,
   "metadata": {},
   "outputs": [
    {
     "name": "stdout",
     "output_type": "stream",
     "text": [
      "0.022996774122681515\n"
     ]
    }
   ],
   "source": [
    "# Propogate error\n",
    "uomega_obs_1 = t_std_1 / np.mean(t_5_m_1)\n",
    "uomega_obs_2 = t_std_2 / np.mean(t_5_m_2)\n",
    "ul = 0.1 / 100.0 / l_m_1\n",
    "um_1 = 1.0 / m_1 / 1000.0\n",
    "um_2 = 1.0 / m_2 / 1000.0\n",
    "ub = 0.5 * ((2*uomega_obs_1 + 2*uomega_obs_2)**2 + (2*um_1 + 2*um_2)**2)\n",
    "uf = sqrt((2*ub)**2 + (2*um_1)**2)\n",
    "ug = sqrt(ul**2 + (2*uomega_obs_1 + uf)**2)\n",
    "print(ug)"
   ]
  },
  {
   "cell_type": "code",
   "execution_count": 5,
   "metadata": {},
   "outputs": [
    {
     "name": "stdout",
     "output_type": "stream",
     "text": [
      "9.769±0.082\n"
     ]
    }
   ],
   "source": [
    "from err import Measurement as M\n",
    "\n",
    "def calc_omega_obs(t):\n",
    "    period = t / 5.0\n",
    "    return (2 * pi) / period\n",
    "\n",
    "def calc_damping(omega_obs_1, omega_obs_2, m_1, m_2):\n",
    "    return (omega_obs_2**2 - omega_obs_1**2) / ( 1.0/(4.0*m_2**2) - 1.0/(4.0*m_1**2) )**0.5\n",
    "\n",
    "m_1 = M(m_1, um_1)\n",
    "m_2 = M(m_2, um_2)\n",
    "l_1 = M(l_m_1, ul)\n",
    "l_2 = M(l_m_2, ul)\n",
    "t_1 = M.from_list(t_5_m_1)\n",
    "t_2 = M.from_list(t_5_m_2)\n",
    "omega_obs_1 = calc_omega_obs(t_1)\n",
    "omega_obs_2 = calc_omega_obs(t_2)\n",
    "b = calc_damping(omega_obs_1, omega_obs_2, m_1, m_2)\n",
    "g = calc_g_with_damping(omega_obs_1, b, m_1, l_1)\n",
    "print(g)"
   ]
  },
  {
   "cell_type": "code",
   "execution_count": null,
   "metadata": {},
   "outputs": [],
   "source": []
  }
 ],
 "metadata": {
  "kernelspec": {
   "display_name": "Python 3 (ipykernel)",
   "language": "python",
   "name": "python3"
  },
  "language_info": {
   "codemirror_mode": {
    "name": "ipython",
    "version": 3
   },
   "file_extension": ".py",
   "mimetype": "text/x-python",
   "name": "python",
   "nbconvert_exporter": "python",
   "pygments_lexer": "ipython3",
   "version": "3.11.1"
  },
  "vscode": {
   "interpreter": {
    "hash": "d86f2fb31b423f771875f26cfe6eaf750bc03d1d5fe8c4c9e2c8b9eee02169a2"
   }
  }
 },
 "nbformat": 4,
 "nbformat_minor": 2
}
