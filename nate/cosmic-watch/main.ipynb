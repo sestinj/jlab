{
 "cells": [
  {
   "cell_type": "code",
   "execution_count": 6,
   "metadata": {},
   "outputs": [
    {
     "name": "stdout",
     "output_type": "stream",
     "text": [
      "[19 19 25 24 29 22 17 21 23 29 21 27 19 18 24 24 24 25 17 21 22 26 34 15\n",
      " 23 18 16 25 31 23 18 22 22 25 14 26 28 19 21 14 19 19 21 28 17 30 19 22\n",
      " 24 19 24 18 20 20 20 18 24 23 27 19 26 21 25 27 11 31 20 23 15 22 13 21\n",
      " 14 28 22 15 27 22 21 20 28 19 19 22 25 25 19 23 24 16 23 17 22 15 23 23\n",
      " 27 22 26 15]\n",
      "4.389943052022429\n",
      "21.78\n",
      "2178\n"
     ]
    }
   ],
   "source": [
    "import numpy as np\n",
    "from matplotlib import pyplot as plt\n",
    "\n",
    "def parse_file(file_name: str):\n",
    "    lines = open(file_name, \"r\").readlines()\n",
    "    lines = list(filter(lambda x: not x.startswith(\"#\"), lines))\n",
    "    data = list(map(lambda x: x.split(), lines))\n",
    "    return data\n",
    "\n",
    "def timestamp(row):\n",
    "    return int(row[3])\n",
    "\n",
    "events = parse_file(\"data/data_muon/useable/vertical.txt\")\n",
    "\n",
    "def calc_counts(events):\n",
    "    intervals = [[]]\n",
    "    delta = 10 * 1000 # ms\n",
    "    int_start = 0\n",
    "    curr_interval = 0\n",
    "    n_intervals = None\n",
    "    i = 0\n",
    "    while True:\n",
    "        event = events[i]\n",
    "        if int_start < timestamp(event) < int_start + delta:\n",
    "            intervals[-1].append(event)\n",
    "        elif timestamp(event) > int_start + delta:\n",
    "            curr_interval += 1\n",
    "            if n_intervals is not None and curr_interval >= n_intervals:\n",
    "                break\n",
    "            intervals.append([])\n",
    "            int_start += delta\n",
    "            intervals[-1].append(event)\n",
    "\n",
    "        i += 1\n",
    "\n",
    "    counts = np.array(list(map(lambda x:  len(x), intervals)))\n",
    "    return counts\n",
    "\n",
    "counts = calc_counts(events)\n",
    "print(counts)\n",
    "print(np.std(counts))\n",
    "print(np.mean(counts))\n",
    "print(np.sum(counts))"
   ]
  },
  {
   "cell_type": "code",
   "execution_count": 7,
   "metadata": {},
   "outputs": [
    {
     "data": {
      "image/png": "[encoded data removed]",
      "text/plain": [
       "<Figure size 640x480 with 1 Axes>"
      ]
     },
     "metadata": {},
     "output_type": "display_data"
    }
   ],
   "source": [
    "plt.hist(counts, bins=20)\n",
    "plt.savefig(\"hist.png\")"
   ]
  },
  {
   "cell_type": "code",
   "execution_count": 8,
   "metadata": {},
   "outputs": [
    {
     "ename": "NameError",
     "evalue": "name 'intervals' is not defined",
     "output_type": "error",
     "traceback": [
      "\u001b[0;31m---------------------------------------------------------------------------\u001b[0m",
      "\u001b[0;31mNameError\u001b[0m                                 Traceback (most recent call last)",
      "Cell \u001b[0;32mIn[8], line 4\u001b[0m\n\u001b[1;32m      2\u001b[0m n \u001b[39m=\u001b[39m \u001b[39m0\u001b[39m\n\u001b[1;32m      3\u001b[0m running_avgs \u001b[39m=\u001b[39m []\n\u001b[0;32m----> 4\u001b[0m \u001b[39mfor\u001b[39;00m i \u001b[39min\u001b[39;00m \u001b[39mrange\u001b[39m(\u001b[39mlen\u001b[39m(intervals)):\n\u001b[1;32m      5\u001b[0m     avg \u001b[39m+\u001b[39m\u001b[39m=\u001b[39m \u001b[39mlen\u001b[39m(intervals[i])\n\u001b[1;32m      6\u001b[0m     n \u001b[39m+\u001b[39m\u001b[39m=\u001b[39m \u001b[39m1\u001b[39m\n",
      "\u001b[0;31mNameError\u001b[0m: name 'intervals' is not defined"
     ]
    }
   ],
   "source": [
    "avg = 0\n",
    "n = 0\n",
    "running_avgs = []\n",
    "for i in range(len(intervals)):\n",
    "    avg += len(intervals[i])\n",
    "    n += 1\n",
    "    running_avgs.append(avg / n)\n",
    "\n",
    "print(running_avgs)\n",
    "\n",
    "plt.plot(running_avgs)\n",
    "plt.savefig(\"avg.png\")"
   ]
  },
  {
   "cell_type": "code",
   "execution_count": null,
   "metadata": {},
   "outputs": [],
   "source": []
  }
 ],
 "metadata": {
  "kernelspec": {
   "display_name": "Python 3 (ipykernel)",
   "language": "python",
   "name": "python3"
  },
  "language_info": {
   "codemirror_mode": {
    "name": "ipython",
    "version": 3
   },
   "file_extension": ".py",
   "mimetype": "text/x-python",
   "name": "python",
   "nbconvert_exporter": "python",
   "pygments_lexer": "ipython3",
   "version": "3.11.2"
  },
  "vscode": {
   "interpreter": {
    "hash": "f98a5281281282bd821f6e8f763f8ddfa19dc8e98e6208381031f0708bc394ec"
   }
  }
 },
 "nbformat": 4,
 "nbformat_minor": 2
}
